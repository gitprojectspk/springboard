{
 "cells": [
  {
   "cell_type": "markdown",
   "metadata": {},
   "source": [
    "# Frequentist Inference Case Study - Part B"
   ]
  },
  {
   "cell_type": "markdown",
   "metadata": {},
   "source": [
    "## Learning objectives"
   ]
  },
  {
   "cell_type": "markdown",
   "metadata": {},
   "source": [
    "Welcome to Part B of the Frequentist inference case study! The purpose of this case study is to help you apply the concepts associated with Frequentist inference in Python. In particular, you'll practice writing Python code to apply the following statistical concepts: \n",
    "* the _z_-statistic\n",
    "* the _t_-statistic\n",
    "* the difference and relationship between the two\n",
    "* the Central Limit Theorem, including its assumptions and consequences\n",
    "* how to estimate the population mean and standard deviation from a sample\n",
    "* the concept of a sampling distribution of a test statistic, particularly for the mean\n",
    "* how to combine these concepts to calculate a confidence interval"
   ]
  },
  {
   "cell_type": "markdown",
   "metadata": {},
   "source": [
    "In the previous notebook, we used only data from a known normal distribution. **You'll now tackle real data, rather than simulated data, and answer some relevant real-world business problems using the data.**"
   ]
  },
  {
   "cell_type": "markdown",
   "metadata": {},
   "source": [
    "## Hospital medical charges"
   ]
  },
  {
   "cell_type": "markdown",
   "metadata": {},
   "source": [
    "Imagine that a hospital has hired you as their data scientist. An administrator is working on the hospital's business operations plan and needs you to help them answer some business questions. \n",
    "\n",
    "In this assignment notebook, you're going to use frequentist statistical inference on a data sample to answer the questions:\n",
    "* has the hospital's revenue stream fallen below a key threshold?\n",
    "* are patients with insurance really charged different amounts than those without?\n",
    "\n",
    "Answering that last question with a frequentist approach makes some assumptions, and requires some knowledge, about the two groups."
   ]
  },
  {
   "cell_type": "markdown",
   "metadata": {},
   "source": [
    "We are going to use some data on medical charges obtained from [Kaggle](https://www.kaggle.com/easonlai/sample-insurance-claim-prediction-dataset). \n",
    "\n",
    "For the purposes of this exercise, assume the observations are the result of random sampling from our single hospital. Recall that in the previous assignment, we introduced the Central Limit Theorem (CLT), and its consequence that the distributions of sample statistics approach a normal distribution as $n$ increases. The amazing thing about this is that it applies to the sampling distributions of statistics that have been calculated from even highly non-normal distributions of data! Recall, also, that hypothesis testing is very much based on making inferences about such sample statistics. You're going to rely heavily on the CLT to apply frequentist (parametric) tests to answer the questions in this notebook."
   ]
  },
  {
   "cell_type": "code",
   "execution_count": 6,
   "metadata": {},
   "outputs": [],
   "source": [
    "import pandas as pd\n",
    "import numpy as np\n",
    "import matplotlib.pyplot as plt\n",
    "from scipy.stats import t\n",
    "from scipy import stats\n",
    "from numpy.random import seed\n",
    "medical = pd.read_csv('insurance2.csv')"
   ]
  },
  {
   "cell_type": "code",
   "execution_count": 7,
   "metadata": {},
   "outputs": [
    {
     "data": {
      "text/plain": [
       "(1338, 8)"
      ]
     },
     "execution_count": 7,
     "metadata": {},
     "output_type": "execute_result"
    }
   ],
   "source": [
    "medical.shape"
   ]
  },
  {
   "cell_type": "code",
   "execution_count": 8,
   "metadata": {},
   "outputs": [
    {
     "data": {
      "text/html": [
       "<div>\n",
       "<style scoped>\n",
       "    .dataframe tbody tr th:only-of-type {\n",
       "        vertical-align: middle;\n",
       "    }\n",
       "\n",
       "    .dataframe tbody tr th {\n",
       "        vertical-align: top;\n",
       "    }\n",
       "\n",
       "    .dataframe thead th {\n",
       "        text-align: right;\n",
       "    }\n",
       "</style>\n",
       "<table border=\"1\" class=\"dataframe\">\n",
       "  <thead>\n",
       "    <tr style=\"text-align: right;\">\n",
       "      <th></th>\n",
       "      <th>age</th>\n",
       "      <th>sex</th>\n",
       "      <th>bmi</th>\n",
       "      <th>children</th>\n",
       "      <th>smoker</th>\n",
       "      <th>region</th>\n",
       "      <th>charges</th>\n",
       "      <th>insuranceclaim</th>\n",
       "    </tr>\n",
       "  </thead>\n",
       "  <tbody>\n",
       "    <tr>\n",
       "      <th>0</th>\n",
       "      <td>19</td>\n",
       "      <td>0</td>\n",
       "      <td>27.900</td>\n",
       "      <td>0</td>\n",
       "      <td>1</td>\n",
       "      <td>3</td>\n",
       "      <td>16884.92400</td>\n",
       "      <td>1</td>\n",
       "    </tr>\n",
       "    <tr>\n",
       "      <th>1</th>\n",
       "      <td>18</td>\n",
       "      <td>1</td>\n",
       "      <td>33.770</td>\n",
       "      <td>1</td>\n",
       "      <td>0</td>\n",
       "      <td>2</td>\n",
       "      <td>1725.55230</td>\n",
       "      <td>1</td>\n",
       "    </tr>\n",
       "    <tr>\n",
       "      <th>2</th>\n",
       "      <td>28</td>\n",
       "      <td>1</td>\n",
       "      <td>33.000</td>\n",
       "      <td>3</td>\n",
       "      <td>0</td>\n",
       "      <td>2</td>\n",
       "      <td>4449.46200</td>\n",
       "      <td>0</td>\n",
       "    </tr>\n",
       "    <tr>\n",
       "      <th>3</th>\n",
       "      <td>33</td>\n",
       "      <td>1</td>\n",
       "      <td>22.705</td>\n",
       "      <td>0</td>\n",
       "      <td>0</td>\n",
       "      <td>1</td>\n",
       "      <td>21984.47061</td>\n",
       "      <td>0</td>\n",
       "    </tr>\n",
       "    <tr>\n",
       "      <th>4</th>\n",
       "      <td>32</td>\n",
       "      <td>1</td>\n",
       "      <td>28.880</td>\n",
       "      <td>0</td>\n",
       "      <td>0</td>\n",
       "      <td>1</td>\n",
       "      <td>3866.85520</td>\n",
       "      <td>1</td>\n",
       "    </tr>\n",
       "  </tbody>\n",
       "</table>\n",
       "</div>"
      ],
      "text/plain": [
       "   age  sex     bmi  children  smoker  region      charges  insuranceclaim\n",
       "0   19    0  27.900         0       1       3  16884.92400               1\n",
       "1   18    1  33.770         1       0       2   1725.55230               1\n",
       "2   28    1  33.000         3       0       2   4449.46200               0\n",
       "3   33    1  22.705         0       0       1  21984.47061               0\n",
       "4   32    1  28.880         0       0       1   3866.85520               1"
      ]
     },
     "execution_count": 8,
     "metadata": {},
     "output_type": "execute_result"
    }
   ],
   "source": [
    "medical.head()"
   ]
  },
  {
   "cell_type": "markdown",
   "metadata": {},
   "source": [
    "__Q1:__ Plot the histogram of charges and calculate the mean and standard deviation. Comment on the appropriateness of these statistics for the data."
   ]
  },
  {
   "cell_type": "code",
   "execution_count": 9,
   "metadata": {},
   "outputs": [
    {
     "data": {
      "image/png": "[encoded data removed]",
      "text/plain": [
       "<Figure size 432x288 with 1 Axes>"
      ]
     },
     "metadata": {
      "needs_background": "light"
     },
     "output_type": "display_data"
    }
   ],
   "source": [
    "_ = plt.hist(medical['charges'])\n",
    "_ = plt.xlabel('Charges')\n",
    "#_ = plt.ylabel('number of people')\n",
    "_ = plt.title('Distribution of Chnages')\n",
    "plt.show()"
   ]
  },
  {
   "cell_type": "code",
   "execution_count": 10,
   "metadata": {},
   "outputs": [
    {
     "name": "stdout",
     "output_type": "stream",
     "text": [
      "1338\n"
     ]
    }
   ],
   "source": [
    "n = len(medical['charges'])\n",
    "print(n)"
   ]
  },
  {
   "cell_type": "code",
   "execution_count": 11,
   "metadata": {},
   "outputs": [
    {
     "name": "stdout",
     "output_type": "stream",
     "text": [
      "13270.422265141257\n"
     ]
    }
   ],
   "source": [
    "mean = np.mean(medical['charges'])\n",
    "print(mean)"
   ]
  },
  {
   "cell_type": "code",
   "execution_count": 12,
   "metadata": {},
   "outputs": [
    {
     "name": "stdout",
     "output_type": "stream",
     "text": [
      "12110.011236693994\n"
     ]
    }
   ],
   "source": [
    "# Since this is random sampling data of count 1338 of one of the hospital, we calculate sample deviation denoted by s\n",
    "# The standard deviation for a sample is similar to the standard deviation for a population except that we divide by n−1 \n",
    "# instead of n and it is denoted s\n",
    "s = np.std(medical['charges'], ddof=1)\n",
    "print(s)"
   ]
  },
  {
   "cell_type": "markdown",
   "metadata": {},
   "source": [
    "__A:__ As observed above, standard deviation is very high and distribution is not normal, it is right skewed\n",
    "The larger the standard deviation, the more scattered the data are. On the contrary, the smaller the standard deviation, the more the data are centred around the mean."
   ]
  },
  {
   "cell_type": "markdown",
   "metadata": {},
   "source": [
    "__Q2:__ The administrator is concerned that the actual average charge has fallen below 12,000, threatening the hospital's operational model. On the assumption that these data represent a random sample of charges, how would you justify that these data allow you to answer that question? And what would be the most appropriate frequentist test, of the ones discussed so far, to apply?"
   ]
  },
  {
   "cell_type": "markdown",
   "metadata": {},
   "source": [
    "__A:__ The sample size is 1338. considering this data as representation of actual data population, we can resample it several times and apply t-test."
   ]
  },
  {
   "cell_type": "markdown",
   "metadata": {},
   "source": [
    "__Q3:__ Given the nature of the administrator's concern, what is the appropriate confidence interval in this case? A ***one-sided*** or ***two-sided*** interval? (Refresh your understanding of this concept on p. 399 of the *AoS*). Calculate the critical value and the relevant 95% confidence interval for the mean, and comment on whether the administrator should be concerned."
   ]
  },
  {
   "cell_type": "markdown",
   "metadata": {},
   "source": [
    "__A:__ one sided"
   ]
  },
  {
   "cell_type": "code",
   "execution_count": 13,
   "metadata": {},
   "outputs": [
    {
     "name": "stdout",
     "output_type": "stream",
     "text": [
      "Critical Value : 1.961739888600845\n"
     ]
    },
    {
     "data": {
      "text/plain": [
       "(12620.954034192644, 13919.890496089869)"
      ]
     },
     "execution_count": 13,
     "metadata": {},
     "output_type": "execute_result"
    }
   ],
   "source": [
    "m = mean\n",
    "s = s\n",
    "dof = n-1 \n",
    "confidence = 0.95\n",
    "\n",
    "#We now need the value of t. The function that calculates the inverse cumulative distribution is ppf. We need to apply the absolute value because the cumulative distribution works with the left tail, so the result would be negative.\n",
    "t_crit = np.abs(t.ppf((1-confidence)/2,dof))\n",
    "print('Critical Value :', t_crit)\n",
    "#Now, we can apply the original formula to calculate the 95% confidence interval\n",
    "(m-s*t_crit/np.sqrt(n), m+s*t_crit/np.sqrt(n)) "
   ]
  },
  {
   "cell_type": "markdown",
   "metadata": {},
   "source": [
    "__:__ administrator does not need to be concerned as the confidence interval for the mean is 12620.954034192644,13919.890496089869"
   ]
  },
  {
   "cell_type": "markdown",
   "metadata": {},
   "source": [
    "The administrator then wants to know whether people with insurance really are charged a different amount to those without.\n",
    "\n",
    "__Q4:__ State the null and alternative hypothesis here. Use the _t_-test for the difference between means, where the pooled standard deviation of the two groups is given by:\n",
    "\\begin{equation}\n",
    "s_p = \\sqrt{\\frac{(n_0 - 1)s^2_0 + (n_1 - 1)s^2_1}{n_0 + n_1 - 2}}\n",
    "\\end{equation}\n",
    "\n",
    "and the *t*-test statistic is then given by:\n",
    "\n",
    "\\begin{equation}\n",
    "t = \\frac{\\bar{x}_0 - \\bar{x}_1}{s_p \\sqrt{1/n_0 + 1/n_1}}.\n",
    "\\end{equation}\n",
    "\n",
    "(If you need some reminding of the general definition of ***t-statistic***, check out the definition on p. 404 of *AoS*). \n",
    "\n",
    "What assumption about the variances of the two groups are we making here?"
   ]
  },
  {
   "cell_type": "markdown",
   "metadata": {},
   "source": [
    "__A:__ \n",
    "Null hypothesis : There is no difference in the charges for Patients with insurance and those without. (μA = μB)\n",
    "\n",
    "Alternate Hypothesis : These is difference in charges for Patients with insurance and those without. (μA != μB)"
   ]
  },
  {
   "cell_type": "markdown",
   "metadata": {},
   "source": [
    "__Q5:__ Perform this hypothesis test both manually, using the above formulae, and then using the appropriate function from [scipy.stats](https://docs.scipy.org/doc/scipy/reference/stats.html#statistical-tests) (hint, you're looking for a function to perform a _t_-test on two independent samples). For the manual approach, calculate the value of the test statistic and then its probability (the p-value). Verify you get the same results from both."
   ]
  },
  {
   "cell_type": "markdown",
   "metadata": {},
   "source": [
    "__A:__ "
   ]
  },
  {
   "cell_type": "code",
   "execution_count": 38,
   "metadata": {},
   "outputs": [
    {
     "name": "stdout",
     "output_type": "stream",
     "text": [
      "783 555\n"
     ]
    },
    {
     "data": {
      "image/png": "[encoded data removed]",
      "text/plain": [
       "<Figure size 432x288 with 1 Axes>"
      ]
     },
     "metadata": {
      "needs_background": "light"
     },
     "output_type": "display_data"
    },
    {
     "data": {
      "image/png": "[encoded data removed]",
      "text/plain": [
       "<Figure size 432x288 with 1 Axes>"
      ]
     },
     "metadata": {
      "needs_background": "light"
     },
     "output_type": "display_data"
    }
   ],
   "source": [
    "insured_grp = medical.loc[medical['insuranceclaim'] == 1]\n",
    "insured_grp_n = len(insured_grp)\n",
    "noninsured_grp = medical.loc[medical['insuranceclaim'] == 0]\n",
    "noninsured_grp_n = len(noninsured_grp)\n",
    "print(insured_grp_n, noninsured_grp_n)\n",
    "\n",
    "_ = plt.hist(insured_grp)\n",
    "_ = plt.xlabel('Charges')\n",
    "#_ = plt.ylabel('number of people')\n",
    "_ = plt.title('Distribution of Charges for insured people')\n",
    "plt.show()\n",
    "\n",
    "_ = plt.hist(noninsured_grp)\n",
    "_ = plt.xlabel('Charges')\n",
    "#_ = plt.ylabel('number of people')\n",
    "_ = plt.title('Distribution of Charges for insured people')\n",
    "plt.show()"
   ]
  },
  {
   "cell_type": "code",
   "execution_count": 39,
   "metadata": {},
   "outputs": [
    {
     "name": "stdout",
     "output_type": "stream",
     "text": [
      "16423.928276537663 8821.421892306294\n",
      "14036.956250260411 6440.699841605233\n",
      "197036140.77172482 41482614.44965368\n"
     ]
    }
   ],
   "source": [
    "# calculating mean\n",
    "insured_grp_mean = np.mean(insured_grp['charges'])\n",
    "noninsured_grp_mean = np.mean(noninsured_grp['charges'])\n",
    "print(insured_grp_mean, noninsured_grp_mean)\n",
    "# calculating std\n",
    "insured_grp_s = np.std(insured_grp['charges'])\n",
    "noninsured_grp_s = np.std(noninsured_grp['charges'])\n",
    "print(insured_grp_s, noninsured_grp_s)\n",
    "\n",
    "# calculating variance\n",
    "insured_grp_var = np.var(insured_grp['charges'])\n",
    "noninsured_grp_var = np.var(noninsured_grp['charges'])\n",
    "print(insured_grp_var, noninsured_grp_var)"
   ]
  },
  {
   "cell_type": "code",
   "execution_count": 40,
   "metadata": {},
   "outputs": [
    {
     "name": "stdout",
     "output_type": "stream",
     "text": [
      "783\n",
      "132532657.551345\n",
      "The square root of the pooled variance to get the pooled standard deviation :  11512.282899205744\n"
     ]
    }
   ],
   "source": [
    "# formula found on https://www.jmp.com/en_us/statistics-knowledge-portal/t-test/two-sample-t-test.html\n",
    "print(insured_grp_n)\n",
    "\n",
    "#We start by calculating our test statistic. This calculation begins with finding the difference between the two averages:\n",
    "#This difference in our samples estimates the difference between the population means for the two groups.\n",
    "mean_diff = insured_grp_mean - noninsured_grp_mean\n",
    "\n",
    "# Next, we calculate the pooled standard deviation. This builds a combined estimate of the overall standard deviation. \n",
    "#The estimate adjusts for different group sizes. First, we calculate the pooled variance:\n",
    "\n",
    "vp = ( ((insured_grp_n - 1) * (insured_grp_s**2)) + ((noninsured_grp_n - 1) * (noninsured_grp_s**2))) / (insured_grp_n + noninsured_grp_n - 2)\n",
    "print(vp)\n",
    "#vp1 = ( ((782) * (197036140.77172482)) + ((554) * (41482614.44965367))  ) / (783 + 555 - 2)\n",
    "#print(vp1)\n",
    "#Next, we take the square root of the pooled variance to get the pooled standard deviation. This is:\n",
    "sp = np.sqrt(vp)\n",
    "\n",
    "print('The square root of the pooled variance to get the pooled standard deviation : ', sp)"
   ]
  },
  {
   "cell_type": "code",
   "execution_count": 49,
   "metadata": {},
   "outputs": [
    {
     "name": "stdout",
     "output_type": "stream",
     "text": [
      "test statistic value is :  11.901306943555385\n",
      "The critical value at α = 0.05 and 1336 degrees of freedom is 1.980\n"
     ]
    }
   ],
   "source": [
    "deno = (sp*np.sqrt((1/insured_grp_n) + (1/noninsured_grp_n)) )\n",
    "#print(mean_diff / deno)\n",
    "\n",
    "#We now have all the pieces for our test statistic. We have the difference of the averages, \n",
    "#the pooled standard deviation and the sample sizes.  We calculate our test statistic as follows:\n",
    "#t = differnece of group averages/standard error of difference\n",
    "t = mean_diff/(sp*(np.sqrt(  (1/insured_grp_n) + (1/noninsured_grp_n) )))\n",
    "print('test statistic value is : ', t)\n",
    "\n",
    "#calculate critical value \n",
    "#We find the theoretical value from the t-distribution based on our null hypothesis which states that the means for 2 groups are equal. \n",
    "#To find this value, we need the significance level (α = 0.05) and the degrees of freedom. The degrees of freedom (df) are based on the sample sizes of the two groups.\n",
    "df = (insured_grp_n + noninsured_grp_n) - 2\n",
    "\n",
    "#The t value with α = 0.05 and 1336 degrees of freedom is 1.980.\n",
    "print('The critical value at α = 0.05 and 1336 degrees of freedom is 1.980')\n",
    "\n"
   ]
  },
  {
   "cell_type": "code",
   "execution_count": 52,
   "metadata": {
    "scrolled": true
   },
   "outputs": [
    {
     "name": "stdout",
     "output_type": "stream",
     "text": [
      "Decision Rule : if t value is less than or greater than critical value , then we reject the Null hypothsis\n",
      "We compare the t value of our statistic (11.90130) to the critical value (1.980). \n",
      "Since 11.90130 > 1.646 we reject the null hypothesis. i.e Null hypothesis : There is no difference in the charges for Patients with insurance and those without..\n"
     ]
    }
   ],
   "source": [
    "#A p value is used in hypothesis testing to help you support or reject the null hypothesis. \n",
    "#The p value is the evidence against a null hypothesis. The smaller the p-value, the stronger the \n",
    "#evidence that you should reject the null hypothesis.\n",
    "print('Decision Rule : if t value is less than or greater than critical value , then we reject the Null hypothsis')\n",
    "print('We compare the t value of our statistic (11.90130) to the critical value (1.980). ')\n",
    "print('Since 11.90130 > 1.646 we reject the null hypothesis. i.e Null hypothesis : There is no difference in the charges for Patients with insurance and those without..')   \n"
   ]
  },
  {
   "cell_type": "code",
   "execution_count": 43,
   "metadata": {},
   "outputs": [
    {
     "data": {
      "text/plain": [
       "Ttest_indResult(statistic=13.298031957975649, pvalue=1.1105103216309125e-37)"
      ]
     },
     "execution_count": 43,
     "metadata": {},
     "output_type": "execute_result"
    }
   ],
   "source": [
    "stats.ttest_ind(insured_grp['charges'], noninsured_grp['charges'], axis=0, equal_var=False)"
   ]
  },
  {
   "cell_type": "code",
   "execution_count": 44,
   "metadata": {},
   "outputs": [
    {
     "name": "stdout",
     "output_type": "stream",
     "text": [
      "783 555\n",
      "12859935.840529 4895889.15023\n",
      "165377949822522.3 23969730571339.83\n",
      "16423.928276537663 8821.421892306294\n",
      "365489962109.9852 66211554751.701706\n",
      "t value 7.25422761706986\n",
      "1336 degrees of freedom at an alpha level of 0.05  = 1.646.\n",
      "Since 1.646 < 7.25422 we reject the null hypothesis.\n"
     ]
    }
   ],
   "source": [
    "# formula found on https://www.statisticshowto.com/probability-and-statistics/t-distribution/independent-samples-t-test/\n",
    "\n",
    "n1 = len(insured_grp)\n",
    "n2 = len(noninsured_grp)\n",
    "print(n1,n2)\n",
    "\n",
    "#Step 1: Sum the two groups:\n",
    "sum1 = np.sum(insured_grp['charges'])\n",
    "sum2 = np.sum(noninsured_grp['charges'])\n",
    "print(sum1,sum2)\n",
    "\n",
    "#Step 2: Square the sums from Step 1:\n",
    "sum1_sq = sum1**2\n",
    "sum2_sq = sum2**2\n",
    "print(sum1_sq, sum2_sq)\n",
    "\n",
    "#Step 3: Calculate the means for the two groups:\n",
    "mean1 = np.mean(insured_grp['charges'])\n",
    "mean2 = np.mean(noninsured_grp['charges'])\n",
    "print(mean1, mean2)\n",
    "\n",
    "#Step 4: Square the individual scores and then add them up:\n",
    "ind_sq_sum1 = sum(i*i for i in insured_grp['charges'])\n",
    "ind_sq_sum2 = sum(i*i for i in noninsured_grp['charges'])\n",
    "print(ind_sq_sum1, ind_sq_sum2)\n",
    "\n",
    "#Step 5: Insert your numbers into the following formula and solve:\n",
    "#(ΣA)2: Sum of data set A, squared (Step 2).\n",
    "#(ΣB)2: Sum of data set B, squared (Step 2).\n",
    "#μA: Mean of data set A (Step 3)\n",
    "#μB: Mean of data set B (Step 3)\n",
    "#ΣA2: Sum of the squares of data set A (Step 4)\n",
    "#ΣB2: Sum of the squares of data set B (Step 4)\n",
    "#nA: Number of items in data set A\n",
    "#nB: Number of items in data set B\n",
    "\n",
    "deno1  = ((ind_sq_sum1 - (sum1_sq/n1) ) + (ind_sq_sum1 - (sum2_sq/n2))) / (n1+n2-2)\n",
    "deno2 = (1/n1) + (1/n2)\n",
    "deno = np.sqrt(deno1 * deno2)\n",
    "t = (mean1 - mean2)/ deno\n",
    "\n",
    "print('t value',t)\n",
    "\n",
    "#Step 6: Find the Degrees of freedom (nA-1 + nB-1) = 18\n",
    "df = (n1-1) + (n2-1)\n",
    "#print(df)\n",
    "\n",
    "#Step 7: Look up your degrees of freedom (Step 6) in the t-table. If you don’t know what your alpha level is, use 5% (0.05).\n",
    "print('1336 degrees of freedom at an alpha level of 0.05  = 1.646.')\n",
    "\n",
    "#Step 8: Compare your calculated value (Step 5) to your table value (Step 7). \n",
    "print('Since 1.646 < 7.25422 we reject the null hypothesis.')\n"
   ]
  },
  {
   "cell_type": "markdown",
   "metadata": {},
   "source": [
    "Congratulations! Hopefully you got the exact same numerical results. This shows that you correctly calculated the numbers by hand. Secondly, you used the correct function and saw that it's much easier to use. All you need to do is pass your data to it."
   ]
  },
  {
   "cell_type": "markdown",
   "metadata": {},
   "source": [
    "__Q6:__ Conceptual question: look through the documentation for statistical test functions in scipy.stats. You'll see the above _t_-test for a sample, but can you see an equivalent one for performing a *z*-test from a sample? Comment on your answer."
   ]
  },
  {
   "cell_type": "markdown",
   "metadata": {},
   "source": [
    "__A:__"
   ]
  },
  {
   "cell_type": "markdown",
   "metadata": {},
   "source": [
    "## Learning outcomes"
   ]
  },
  {
   "cell_type": "markdown",
   "metadata": {},
   "source": [
    "Having completed this project notebook, you now have good hands-on experience:\n",
    "* using the central limit theorem to help you apply frequentist techniques to answer questions that pertain to very non-normally distributed data from the real world\n",
    "* performing inference using such data to answer business questions\n",
    "* forming a hypothesis and framing the null and alternative hypotheses\n",
    "* testing this using a _t_-test"
   ]
  }
 ],
 "metadata": {
  "kernelspec": {
   "display_name": "Python 3",
   "language": "python",
   "name": "python3"
  },
  "language_info": {
   "codemirror_mode": {
    "name": "ipython",
    "version": 3
   },
   "file_extension": ".py",
   "mimetype": "text/x-python",
   "name": "python",
   "nbconvert_exporter": "python",
   "pygments_lexer": "ipython3",
   "version": "3.8.8"
  }
 },
 "nbformat": 4,
 "nbformat_minor": 2
}
