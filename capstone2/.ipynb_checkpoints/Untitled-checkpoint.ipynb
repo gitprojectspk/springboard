{
 "cells": [
  {
   "cell_type": "code",
   "execution_count": 1,
   "id": "566c1623",
   "metadata": {},
   "outputs": [
    {
     "name": "stdout",
     "output_type": "stream",
     "text": [
      "  Patient Id  Patient Age Genes in mother's side Inherited from father  \\\n",
      "0  PID0x6418          2.0                    Yes                    No   \n",
      "1  PID0x25d5          4.0                    Yes                   Yes   \n",
      "2  PID0x4a82          6.0                    Yes                    No   \n",
      "3  PID0x4ac8         12.0                    Yes                    No   \n",
      "4  PID0x1bf7         11.0                    Yes                    No   \n",
      "\n",
      "  Maternal gene Paternal gene  Blood cell count (mcL) Patient First Name  \\\n",
      "0           Yes            No                4.760603            Richard   \n",
      "1            No            No                4.910669               Mike   \n",
      "2            No            No                4.893297           Kimberly   \n",
      "3           Yes            No                4.705280            Jeffery   \n",
      "4           NaN           Yes                4.720703            Johanna   \n",
      "\n",
      "  Family Name Father's name  ...  Birth defects  \\\n",
      "0         NaN         Larre  ...            NaN   \n",
      "1         NaN        Brycen  ...       Multiple   \n",
      "2         NaN        Nashon  ...       Singular   \n",
      "3   Hoelscher        Aayaan  ...       Singular   \n",
      "4    Stutzman         Suave  ...       Multiple   \n",
      "\n",
      "   White Blood cell count (thousand per microliter) Blood test result  \\\n",
      "0                                          9.857562               NaN   \n",
      "1                                          5.522560            normal   \n",
      "2                                               NaN            normal   \n",
      "3                                          7.919321      inconclusive   \n",
      "4                                          4.098210               NaN   \n",
      "\n",
      "  Symptom 1 Symptom 2 Symptom 3 Symptom 4  Symptom 5  \\\n",
      "0       1.0       1.0       1.0       1.0        1.0   \n",
      "1       1.0       NaN       1.0       1.0        0.0   \n",
      "2       0.0       1.0       1.0       1.0        1.0   \n",
      "3       0.0       0.0       1.0       0.0        0.0   \n",
      "4       0.0       0.0       0.0       0.0        NaN   \n",
      "\n",
      "                               Genetic Disorder  \\\n",
      "0   Mitochondrial genetic inheritance disorders   \n",
      "1                                           NaN   \n",
      "2  Multifactorial genetic inheritance disorders   \n",
      "3   Mitochondrial genetic inheritance disorders   \n",
      "4  Multifactorial genetic inheritance disorders   \n",
      "\n",
      "                     Disorder Subclass  \n",
      "0  Leber's hereditary optic neuropathy  \n",
      "1                      Cystic fibrosis  \n",
      "2                             Diabetes  \n",
      "3                       Leigh syndrome  \n",
      "4                               Cancer  \n",
      "\n",
      "[5 rows x 45 columns]\n"
     ]
    }
   ],
   "source": [
    "import pandas as pd\n",
    "file = 'train.csv'\n",
    "df = pd.read_csv(file)\n",
    "print(df.head())"
   ]
  },
  {
   "cell_type": "code",
   "execution_count": 2,
   "id": "9c7cc66b",
   "metadata": {},
   "outputs": [
    {
     "name": "stdout",
     "output_type": "stream",
     "text": [
      "(22083, 45)\n"
     ]
    }
   ],
   "source": [
    "print(df.shape)"
   ]
  },
  {
   "cell_type": "code",
   "execution_count": null,
   "id": "3b8335cc",
   "metadata": {},
   "outputs": [],
   "source": []
  }
 ],
 "metadata": {
  "kernelspec": {
   "display_name": "Python 3",
   "language": "python",
   "name": "python3"
  },
  "language_info": {
   "codemirror_mode": {
    "name": "ipython",
    "version": 3
   },
   "file_extension": ".py",
   "mimetype": "text/x-python",
   "name": "python",
   "nbconvert_exporter": "python",
   "pygments_lexer": "ipython3",
   "version": "3.8.8"
  }
 },
 "nbformat": 4,
 "nbformat_minor": 5
}
